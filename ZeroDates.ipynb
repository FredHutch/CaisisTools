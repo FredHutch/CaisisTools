{
 "cells": [
  {
   "cell_type": "code",
   "execution_count": 5,
   "metadata": {},
   "outputs": [],
   "source": [
    "# ZeroDates. Script converts strings from date formats (xx/xx/xxxx) into integer offset (e.g., 12 = 12 days after Day Zero).\n",
    "# Inputs: folderpath, patient_info_filename, zero_day_column_name\n",
    "# Outputs: All *_data_*.txt files in the folderpath are copied into \"zeroed\" subfolder, with all date strings converted to ints for offset days.\n",
    "import datetime\n",
    "from pathlib import Path\n",
    "import os\n",
    "\n",
    "# Mandatory\n",
    "folderpath = 'Prostate_TAN'\n",
    "patient_info_filename = \"data_clinical_patient.txt\"\n",
    "zero_day_column_name = \"FIRST_DATE_OF_METASTASIS\"\n",
    "\n",
    "# Optional\n",
    "debug_output = True\n",
    "day_offset_for_errors = -1234 # If this value shows up in output, an error occured (e.g. empty cell)\n",
    "\n"
   ]
  },
  {
   "cell_type": "code",
   "execution_count": 6,
   "metadata": {},
   "outputs": [
    {
     "ename": "FileNotFoundError",
     "evalue": "[Errno 2] No such file or directory: 'Prostate_TAN/data_clinical_patient.txt'",
     "output_type": "error",
     "traceback": [
      "\u001b[1;31m---------------------------------------------------------------------------\u001b[0m",
      "\u001b[1;31mFileNotFoundError\u001b[0m                         Traceback (most recent call last)",
      "\u001b[1;32m<ipython-input-6-f849d64e4eae>\u001b[0m in \u001b[0;36m<module>\u001b[1;34m\u001b[0m\n\u001b[0;32m      3\u001b[0m \u001b[1;33m\u001b[0m\u001b[0m\n\u001b[0;32m      4\u001b[0m \u001b[0mzero_day_column\u001b[0m \u001b[1;33m=\u001b[0m \u001b[1;33m-\u001b[0m\u001b[1;36m1\u001b[0m\u001b[1;33m\u001b[0m\u001b[1;33m\u001b[0m\u001b[0m\n\u001b[1;32m----> 5\u001b[1;33m \u001b[1;32mwith\u001b[0m \u001b[0mopen\u001b[0m\u001b[1;33m(\u001b[0m\u001b[0mfolderpath\u001b[0m \u001b[1;33m+\u001b[0m \u001b[1;34m\"/\"\u001b[0m \u001b[1;33m+\u001b[0m \u001b[0mpatient_info_filename\u001b[0m\u001b[1;33m)\u001b[0m \u001b[1;32mas\u001b[0m \u001b[0mf\u001b[0m\u001b[1;33m:\u001b[0m\u001b[1;33m\u001b[0m\u001b[1;33m\u001b[0m\u001b[0m\n\u001b[0m\u001b[0;32m      6\u001b[0m     \u001b[0mcontent\u001b[0m \u001b[1;33m=\u001b[0m \u001b[0mf\u001b[0m\u001b[1;33m.\u001b[0m\u001b[0mreadlines\u001b[0m\u001b[1;33m(\u001b[0m\u001b[1;33m)\u001b[0m\u001b[1;33m\u001b[0m\u001b[1;33m\u001b[0m\u001b[0m\n\u001b[0;32m      7\u001b[0m     \u001b[1;31m# print(content[4])\u001b[0m\u001b[1;33m\u001b[0m\u001b[1;33m\u001b[0m\u001b[1;33m\u001b[0m\u001b[0m\n",
      "\u001b[1;31mFileNotFoundError\u001b[0m: [Errno 2] No such file or directory: 'Prostate_TAN/data_clinical_patient.txt'"
     ]
    }
   ],
   "source": [
    "global debug_output\n",
    "global column_names\n",
    "\n",
    "zero_day_column = -1\n",
    "with open(folderpath + \"/\" + patient_info_filename) as f:\n",
    "    content = f.readlines()\n",
    "    # print(content[4])\n",
    "    column_names = content[4].split('\\t')\n",
    "    zero_day_column = column_names.index(zero_day_column_name)\n",
    "\n",
    "print(\"zero_day_column in \" + patient_info_filename + \" is \" + str(zero_day_column))\n",
    "if zero_day_column < 0 :\n",
    "    raise \"Zero day column missing!\""
   ]
  },
  {
   "cell_type": "code",
   "execution_count": 11,
   "metadata": {},
   "outputs": [
    {
     "name": "stdout",
     "output_type": "stream",
     "text": [
      "patient_zeros, count=0\n",
      "patient_fails, count=150\n"
     ]
    }
   ],
   "source": [
    "patient_zeros = {}  # dict where key=patientId, value=datetime object of zero day.\n",
    "patient_fails = []  # list of patientIds without a zero day value.\n",
    "\n",
    "for x in range(5,len(content)): \n",
    "    row = content[x].split('\\t')\n",
    "    patient_id = row[0]\n",
    "    zero_day_string = row[zero_day_column]\n",
    "    try:\n",
    "        zero_date = datetime.datetime.strptime(zero_day_string, '%m/%d/%Y')\n",
    "        #    new_row = patient_id, zero_date\n",
    "        patient_zeros[patient_id] = zero_date\n",
    "    except Exception as e: \n",
    "        patient_fails.append(patient_id)\n",
    "\n",
    "print('patient_zeros, count=' + str(len(patient_zeros)))\n",
    "print('patient_fails, count=' + str(len(patient_fails)))\n"
   ]
  },
  {
   "cell_type": "code",
   "execution_count": 12,
   "metadata": {},
   "outputs": [],
   "source": [
    "def transform_file(filename):\n",
    "    global debug_output\n",
    "    global day_offset_for_errors\n",
    "    global column_names\n",
    "    \n",
    "    if debug_output:\n",
    "        print('START transforming ' + filename)\n",
    "\n",
    "    data_folder = Path(folderpath)\n",
    "    file_to_open = data_folder / filename\n",
    "    f = open(file_to_open)\n",
    "    content = f.readlines()\n",
    "\n",
    "    # Build list of columns with dates\n",
    "    # if column has 'date' in part of row 5, transform it.\n",
    "    date_cols = []\n",
    "    column_names = content[4].split('\\t')\n",
    "    if debug_output:\n",
    "        print(column_names)\n",
    "    date_idx_list = [i for i, value in enumerate(column_names) if \"DATE\" in value]\n",
    "    print (\"Date indices list : \" + str(date_idx_list) +\"\\n\")\n",
    "    \n",
    "    # Run through lines of file. If > 5th line, do transformation.\n",
    "    for idx, val in enumerate(content):\n",
    "        row = val.rstrip().split('\\t')\n",
    "        \n",
    "        if idx < 5:\n",
    "            # header rows\n",
    "            # print(val)\n",
    "            if idx == 2:\n",
    "                # Turn likely STRING to NUMBER type, as we go from '03/13/20' to an int.\n",
    "                for i, date_index_val in enumerate(date_idx_list):\n",
    "                    date_index = date_idx_list[i]                \n",
    "                    row[date_index] = \"NUMBER\"\n",
    "                    row_final = \"\\t\".join(row)+\"\\n\"\n",
    "                    content[idx] = row_final\n",
    "                    \n",
    "        else:\n",
    "            # data rows\n",
    "            \n",
    "\n",
    "            # If Excel doesn't have values for every column,\n",
    "            # let's stick in empty cells. But should probably be a warning.\n",
    "            row = row + [\"\"] * (len(column_names) - len(row))\n",
    "            if debug_output:\n",
    "                print('row len ' + str(len(row)))\n",
    "            \n",
    "            patient_id = row[0]\n",
    "            zero_day = False\n",
    "            if patient_id in patient_zeros:\n",
    "                zero_day = patient_zeros[patient_id]\n",
    "                \n",
    "            if debug_output:\n",
    "                print(\"pid \" + patient_id +\"!\")\n",
    "                print(\"zero for \" + patient_id + \" is \" + str(zero_day))\n",
    "\n",
    "\n",
    "            for i, date_index_val in enumerate(date_idx_list):\n",
    "\n",
    "                date_index = date_idx_list[i]\n",
    "                #print('date index ' + str(date_index))\n",
    "                \n",
    "                raw_date_text = row[date_index]\n",
    "\n",
    "                if zero_day == False:\n",
    "                    row[date_index] = str(day_offset_for_errors)\n",
    "                else:\n",
    "                    try:\n",
    "                        this_day = datetime.datetime.strptime(raw_date_text, '%m/%d/%Y')\n",
    "                        \n",
    "                        delta = this_day - zero_day\n",
    "                        days_as_str = str(delta.days)\n",
    "\n",
    "                        # print(str(date_index)+\" converted [\"+raw_date_text+\"] to \" + days_as_str )\n",
    "                        row[date_index] = days_as_str\n",
    "                    except Exception as e: \n",
    "                        # print(str(date_index)+\" zero day exception for [\"+raw_date_text+\"]\" )\n",
    "                        row[date_index] = str(day_offset_for_errors)\n",
    "                        # print('exc in col ',str(date_index))\n",
    "                if date_index == len(row)-1:\n",
    "                    if debug_output:\n",
    "                        print(\"last column, value=\",row[date_index])\n",
    "                    row[date_index] = row[date_index]  # + \"\\n\"\n",
    "\n",
    "            row_final = \"\\t\".join(row)+\"\\n\"\n",
    "            content[idx] = row_final\n",
    "            if debug_output:\n",
    "                print(idx, row_final+\"\\n\")\n",
    "\n",
    "    output_filename = \"zerodate_\" + filename\n",
    "    file_to_open = data_folder / output_filename\n",
    "    file2 = open(file_to_open, \"w\")\n",
    "    with file_to_open.open(\"w\") as f:\n",
    "        f.writelines(content)\n",
    "    \n",
    "    if debug_output:\n",
    "        print(\"DONE transforming \" + filename + \"\\n\\n\")"
   ]
  },
  {
   "cell_type": "code",
   "execution_count": null,
   "metadata": {
    "scrolled": true
   },
   "outputs": [],
   "source": [
    "files = os.listdir(folderpath)\n",
    "print('Files to transform dates in:')\n",
    "#print('SAMPLE ONLY=========')\n",
    "for file in files:\n",
    "    if file.startswith(\"data\") and file.endswith(\".txt\"):\n",
    "         print(file) #(os.path.join(root, file))\n",
    "print(\"--START--\")\n",
    "\n",
    "for filename in files:\n",
    "    if filename.startswith(\"data\") and filename.endswith(\".txt\"):\n",
    "        transform_file(filename)\n",
    "\n",
    "print(\"--END--\")\n",
    "print(\"Look for output files, with the prefix 'zerodate_'.\")"
   ]
  },
  {
   "cell_type": "code",
   "execution_count": null,
   "metadata": {},
   "outputs": [],
   "source": []
  }
 ],
 "metadata": {
  "interpreter": {
   "hash": "14bd5129d3ab5ab4870dfed1f1aac6f098baa8523fc059896b51bc6f4661f622"
  },
  "kernelspec": {
   "display_name": "Python 3.8.8 64-bit ('base': conda)",
   "name": "python3"
  },
  "language_info": {
   "codemirror_mode": {
    "name": "ipython",
    "version": 3
   },
   "file_extension": ".py",
   "mimetype": "text/x-python",
   "name": "python",
   "nbconvert_exporter": "python",
   "pygments_lexer": "ipython3",
   "version": "3.8.8"
  }
 },
 "nbformat": 4,
 "nbformat_minor": 2
}
