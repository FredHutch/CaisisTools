{
 "cells": [
  {
   "cell_type": "code",
   "execution_count": 1,
   "metadata": {},
   "outputs": [
    {
     "name": "stdout",
     "output_type": "stream",
     "text": [
      "['ClinicalStage', 'Encounters', 'LabTests', 'PathTest', 'SocialHistory', 'Demographics', 'LabTestGenetics', 'PathStageGrade', 'RadiationTherapy', 'Status']\n"
     ]
    }
   ],
   "source": [
    "# CaisisImport. A utility to prepare a Caisis-to-Excel export for import into Oncoscape (via cBioPortal format).\n",
    "\n",
    "# Steps:\n",
    "# . ExportAsTSVs\n",
    "# . ZeroDates\n",
    "# . LimitByDiseaseGroups\n",
    "# . \n",
    "datasetFolder = 'Colorectal'\n",
    "\n",
    "knownTables = ['ClinicalStage', 'Encounters', 'LabTests', 'PathTest', 'SocialHistory', 'Demographics', 'LabTestGenetics', 'PathStageGrade', 'RadiationTherapy', 'Status', ]\n",
    "\n",
    "print(knownTables)\n"
   ]
  },
  {
   "cell_type": "code",
   "execution_count": null,
   "metadata": {},
   "outputs": [],
   "source": []
  }
 ],
 "metadata": {
  "kernelspec": {
   "display_name": "Python 3",
   "language": "python",
   "name": "python3"
  },
  "language_info": {
   "codemirror_mode": {
    "name": "ipython",
    "version": 3
   },
   "file_extension": ".py",
   "mimetype": "text/x-python",
   "name": "python",
   "nbconvert_exporter": "python",
   "pygments_lexer": "ipython3",
   "version": "3.8.8"
  }
 },
 "nbformat": 4,
 "nbformat_minor": 2
}
