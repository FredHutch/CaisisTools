{
 "cells": [
  {
   "cell_type": "code",
   "execution_count": null,
   "metadata": {},
   "outputs": [],
   "source": [
    "# CaisisImport. A utility to prepare a Caisis-to-Excel export for import into Oncoscape (via cBioPortal format).\n",
    "\n",
    "# Steps:\n",
    "# . ExportAsTSVs\n",
    "# . ZeroDates\n",
    "# . LimitByDiseaseGroups\n",
    "# . \n"
   ]
  },
  {
   "cell_type": "code",
   "execution_count": 67,
   "metadata": {},
   "outputs": [],
   "source": [
    "import os\n",
    "import errno\n",
    "def save_file_and_folder(filename, obj):\n",
    "    if not os.path.exists(os.path.dirname(filename)):\n",
    "        try:\n",
    "            os.makedirs(os.path.dirname(filename))\n",
    "        except OSError as exc: # Guard against race condition\n",
    "            if exc.errno != errno.EEXIST:\n",
    "                raise\n",
    "\n",
    "    with open(filename, \"w\") as f:\n",
    "        f.write(obj)\n",
    "\n",
    "def patients_and_descriptive_header(df:pd.DataFrame, header):\n",
    "    ids = df['PatientId'].values\n",
    "    str_ids = \"\\r\\n\".join(ids)\n",
    "    a =  header + \"\\r\\n\" + str_ids\n",
    "    return a"
   ]
  },
  {
   "cell_type": "code",
   "execution_count": 79,
   "metadata": {},
   "outputs": [
    {
     "name": "stdout",
     "output_type": "stream",
     "text": [
      "CHECK NoDxDate? REPORT NoDxDate.txt has *30* diagnoses of Brain without diagnosis dates.\n",
      "----\n",
      "Resulting patient IDs = 1775\n"
     ]
    }
   ],
   "source": [
    "from openpyxl import Workbook\n",
    "from openpyxl import load_workbook\n",
    "import pandas as pd\n",
    "\n",
    "dataset_folder = '../Caisis_NonPublicData/Brain'\n",
    "diseaseChosen = 'Brain'\n",
    "\n",
    "knownTables = ['Demographics', 'Status', 'Encounters', 'ClinicalStage', 'LabTests', 'PathTest', 'SocialHistory', 'LabTestGenetics', 'PathStageGrade', 'RadiationTherapy',  ]\n",
    "#print(knownTables)\n",
    "\n",
    "table_demographics = pd.read_csv(dataset_folder +'/RawCSVs/' + knownTables[1] +'.csv') #'Demographics.csv')\n",
    "table_demographics['Date'] =pd.to_datetime(table_demographics.StatusDate)\n",
    "table_demographics['PatientId'] =  table_demographics['PatientId'].astype(str)\n",
    "\n",
    "dxRows = table_demographics[table_demographics.Status.eq('Diagnosis Date')]\n",
    "diseaseRows = dxRows[dxRows.StatusDisease.eq(diseaseChosen)].sort_values('Date')\n",
    "#print(diseaseRows)\n",
    "\n",
    "dxNanRows = diseaseRows[diseaseRows.Date.isna()]\n",
    "if(dxNanRows.size > 0):\n",
    "    print('CHECK NoDxDate? REPORT NoDxDate.txt has *' +str(dxNanRows.size)+'* diagnoses of '+diseaseChosen+' without diagnosis dates.')\n",
    "    report_body = patients_and_descriptive_header(dxNanRows, 'Patients with \"'+diseaseChosen+\" but no DiagnosisDate:\")\n",
    "    save_file_and_folder('reports/NoDxDate.txt', report_body)\n",
    "else:\n",
    "    print('CHECK NoDxDate? OK')\n",
    "    print('TBD: delete existing NoDxDate.txt report.')\n",
    "\n",
    "diseaseDatedRows = diseaseRows[diseaseRows.Date.isna()==False]\n",
    "#print(diseaseRows[diseaseRows.PatientId.eq('1920')])\n",
    "print('----')\n",
    "patientid_date_dict = {}\n",
    "for index, row in diseaseDatedRows.iterrows():\n",
    "    pid = str(row['PatientId'])\n",
    "    if((pid in patientid_date_dict) == False):\n",
    "        patientid_date_dict[pid] = row['Date']\n",
    "    else:\n",
    "        pass\n",
    "print('Resulting patient IDs = ' + str(len(patientid_date_dict)))    \n",
    "#print(patientid_date_dict['1920'])\n"
   ]
  },
  {
   "cell_type": "code",
   "execution_count": null,
   "metadata": {},
   "outputs": [],
   "source": []
  }
 ],
 "metadata": {
  "kernelspec": {
   "display_name": "Python 3",
   "language": "python",
   "name": "python3"
  },
  "language_info": {
   "codemirror_mode": {
    "name": "ipython",
    "version": 3
   },
   "file_extension": ".py",
   "mimetype": "text/x-python",
   "name": "python",
   "nbconvert_exporter": "python",
   "pygments_lexer": "ipython3",
   "version": "3.8.8"
  }
 },
 "nbformat": 4,
 "nbformat_minor": 2
}
