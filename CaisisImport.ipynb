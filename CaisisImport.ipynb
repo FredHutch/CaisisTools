{
 "cells": [
  {
   "cell_type": "code",
   "execution_count": 29,
   "metadata": {},
   "outputs": [],
   "source": [
    "# CaisisImport. A utility to prepare a Caisis-to-Excel export for import into Oncoscape (via cBioPortal format).\n",
    "\n",
    "# Steps:\n",
    "# . Limit by disease\n",
    "# . ExportAsTSVs\n",
    "# . ZeroDates\n",
    "# . \n",
    "import pandas as pd\n",
    "import os\n",
    "import errno\n",
    "import sys\n",
    "\n",
    "dataset_folder = '../Caisis_NonPublicData/Brain'\n",
    "diseaseChosen = 'Brain'\n",
    "#knownTables = ['Demographics', 'Encounters', 'ClinicalStage', 'LabTests', 'PathTest', 'SocialHistory', 'LabTestGenetics', 'PathStageGrade', 'RadiationTherapy',  ]\n",
    "knownTables = ['Demographics', 'Encounters', 'Procedures', 'Path Stage Grade', 'Social History', 'Radiation Therapy'  ]\n",
    "patients_first_dx = pd.DataFrame()   # just PatientId and DiagnosisDate\n",
    "data_clinical_patient = pd.DataFrame() # Will become the data_clinical_patient table.\n",
    "loaded_tables_dict = {}\n",
    "\n",
    "days_before_dx_to_include = 0  # if 30, can include events up to 30 days before the diagnosis date.\n"
   ]
  },
  {
   "cell_type": "code",
   "execution_count": 24,
   "metadata": {},
   "outputs": [],
   "source": [
    "def save_file_and_folder(filename, obj):\n",
    "    if not os.path.exists(os.path.dirname(filename)):\n",
    "        try:\n",
    "            os.makedirs(os.path.dirname(filename))\n",
    "        except OSError as exc: # Guard against race condition\n",
    "            if exc.errno != errno.EEXIST:\n",
    "                raise\n",
    "\n",
    "    with open(filename, \"w\") as f:\n",
    "        f.write(obj)\n",
    "\n",
    "def patients_and_descriptive_header(df:pd.DataFrame, header):\n",
    "    # TBD: note header in separate place\n",
    "    str_ids = df.to_string(index=False)\n",
    "    a =  str_ids  # header + \"\\n\" + str_ids\n",
    "    return a"
   ]
  },
  {
   "cell_type": "code",
   "execution_count": 25,
   "metadata": {},
   "outputs": [],
   "source": [
    "def find_patients_first_dx():\n",
    "    global patients_first_dx, data_clinical_patient\n",
    "\n",
    "    status_fullpath = dataset_folder +'/raw_csv/Status.csv'\n",
    "    if not os.path.exists(dataset_folder +'/raw_csv'):\n",
    "        sys.exit('ERROR: Cannot find folder \"raw_csv\".')\n",
    "\n",
    "    if not os.path.exists(status_fullpath):\n",
    "        sys.exit('ERROR: Status.csv file not found at ' + status_fullpath)\n",
    "\n",
    "    tbl_status = pd.read_csv(status_fullpath) #'Demographics.csv')\n",
    "    tbl_status['Date'] =pd.to_datetime(tbl_status.StatusDate)\n",
    "    tbl_status['PatientId'] =  tbl_status['PatientId'].astype(str)\n",
    "\n",
    "    dxRows = tbl_status[tbl_status.Status.eq('Diagnosis Date')]\n",
    "    diseaseRows = dxRows[dxRows.StatusDisease.eq(diseaseChosen)].sort_values('Date')\n",
    "\n",
    "    dxNanRows = diseaseRows[diseaseRows.Date.isna()][['PatientId']]\n",
    "    if(dxNanRows.size > 0):\n",
    "        print('CHECK NoDxDate? REPORT NoDxDate.txt has *' +str(dxNanRows.size)+'* diagnoses of '+diseaseChosen+' without diagnosis dates.')\n",
    "        report_body = patients_and_descriptive_header(dxNanRows, 'Patients with \"'+diseaseChosen+\" but no DiagnosisDate:\")\n",
    "    #    save_file_and_folder('reports/NoDxDate.txt', report_body)\n",
    "        save_file_and_folder(dataset_folder+'/reports/NoDxDate.txt', report_body)\n",
    "    else:\n",
    "        print('CHECK NoDxDate? OK')\n",
    "        print('TBD: delete existing NoDxDate.txt report.')\n",
    "        if os.path.exists(dataset_folder+'/reports/NoDxDate.txt'):\n",
    "            os.remove(dataset_folder+'/reports/NoDxDate.txt')\n",
    "            print('REMOVED NoDxDate.txt')\n",
    "            \n",
    "    diseaseDatedRows = diseaseRows[diseaseRows.Date.isna()==False]\n",
    "    #print(diseaseRows[diseaseRows.PatientId.eq('1920')])\n",
    "    print('----')\n",
    "    patientid_date_dict = {}\n",
    "    for index, row in diseaseDatedRows.iterrows():\n",
    "        pid = str(row['PatientId'])\n",
    "        if((pid in patientid_date_dict) == False):\n",
    "            patientid_date_dict[pid] = row['Date']\n",
    "        else:\n",
    "            pass\n",
    "    print('Resulting patient IDs = ' + str(len(patientid_date_dict)))   \n",
    "    #patients_first_dx = pd.DataFrame.from_dict(patientid_date_dict, orient='index', columns=['PatientId'])\n",
    "    #patients_first_dx.set_index('PatientId', inplace=True)  \n",
    "    #patients_first_dx\n",
    "\n",
    "    data = []\n",
    "    for key in patientid_date_dict.keys():\n",
    "        new_row = [key, patientid_date_dict[key]]\n",
    "        data.append(new_row)\n",
    "    patients_first_dx = pd.DataFrame(data, columns=[\"PatientId\", \"DiagnosisDate\"])\n",
    "    data_clinical_patient = patients_first_dx.copy()\n",
    "\n",
    "    report_body = patients_and_descriptive_header(patients_first_dx, 'Patients First Diagnosis Date')\n",
    "    \n",
    "    save_file_and_folder(dataset_folder+'/reports/PatientsFirstDx.txt', report_body)\n",
    "    #patients_first_dx\n"
   ]
  },
  {
   "cell_type": "code",
   "execution_count": 120,
   "metadata": {},
   "outputs": [],
   "source": [
    "def load_all_tables():\n",
    "    global loaded_tables_dict\n",
    "    for tableName in knownTables:\n",
    "        print('attempting to read ' + tableName+'.csv...')\n",
    "        df = pd.read_csv(dataset_folder+'/raw_csv/'+tableName+'.csv')\n",
    "        df = df.astype({\"PatientId\": str})\n",
    "        #df.set_index('PatientId', inplace=True)\n",
    "        #print(df.head(2))\n",
    "        loaded_tables_dict[tableName] = df"
   ]
  },
  {
   "cell_type": "code",
   "execution_count": 164,
   "metadata": {},
   "outputs": [],
   "source": [
    "def process_demographics():\n",
    "    global patients_first_dx, data_clinical_patient, loaded_tables_dict\n",
    "    current_table = loaded_tables_dict['Demographics']\n",
    "    print(\"current columns...\")\n",
    "    #print(current_table.columns)\n",
    "    if 'PtGender' in current_table.columns:\n",
    "        print(\"================gender===\")\n",
    "        data_clinical_patient.insert(1, 'PtGender', None)\n",
    "\n",
    "        def setGender(pid):\n",
    "            gg = current_table.loc[current_table['PatientId'] == str(pid)]\n",
    "            return gg['PtGender'].iloc[0]   \n",
    "\n",
    "        gender_results = data_clinical_patient['PatientId'].apply(setGender)\n",
    "        print(\"results......\")\n",
    "        #print(gender_results)\n",
    "        data_clinical_patient['PtGender'] = gender_results\n",
    "        #print(data_clinical_patient.head(12))\n"
   ]
  },
  {
   "cell_type": "code",
   "execution_count": 165,
   "metadata": {},
   "outputs": [
    {
     "name": "stdout",
     "output_type": "stream",
     "text": [
      "CHECK NoDxDate? REPORT NoDxDate.txt has *3* diagnoses of Brain without diagnosis dates.\n",
      "----\n",
      "Resulting patient IDs = 1775\n",
      "(1775, 2)\n",
      "attempting to read Demographics.csv...\n",
      "attempting to read Encounters.csv...\n",
      "attempting to read Procedures.csv...\n",
      "attempting to read Path Stage Grade.csv...\n",
      "attempting to read Social History.csv...\n",
      "attempting to read Radiation Therapy.csv...\n",
      "current columns...\n",
      "================gender===\n",
      "results......\n",
      "DONE\n"
     ]
    }
   ],
   "source": [
    "find_patients_first_dx()\n",
    "print(patients_first_dx.shape)\n",
    "load_all_tables()\n",
    "\n",
    "process_demographics()\n",
    "\n",
    "print(\"DONE\")\n",
    "#print(data_clinical_patient)\n"
   ]
  },
  {
   "cell_type": "code",
   "execution_count": null,
   "metadata": {},
   "outputs": [],
   "source": []
  }
 ],
 "metadata": {
  "kernelspec": {
   "display_name": "Python 3",
   "language": "python",
   "name": "python3"
  },
  "language_info": {
   "codemirror_mode": {
    "name": "ipython",
    "version": 3
   },
   "file_extension": ".py",
   "mimetype": "text/x-python",
   "name": "python",
   "nbconvert_exporter": "python",
   "pygments_lexer": "ipython3",
   "version": "3.8.8"
  }
 },
 "nbformat": 4,
 "nbformat_minor": 2
}
